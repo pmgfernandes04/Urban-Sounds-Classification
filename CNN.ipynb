{
 "cells": [
  {
   "metadata": {},
   "cell_type": "markdown",
   "source": "# Convolutional Neural Network",
   "id": "fd34d93c7ce0fd45"
  },
  {
   "metadata": {},
   "cell_type": "markdown",
   "source": [
    "In this file, we will be addressing our take on the problem using a **convolutional neural network**.\n",
    "\n",
    "We will begin  by importing the necessary modules:"
   ],
   "id": "29ce5d1dcd5d3ab1"
  },
  {
   "cell_type": "code",
   "id": "initial_id",
   "metadata": {
    "collapsed": true,
    "ExecuteTime": {
     "end_time": "2024-11-27T23:51:08.858688Z",
     "start_time": "2024-11-27T23:51:06.710443Z"
    }
   },
   "source": [
    "# Import necessary libraries\n",
    "import tensorflow as tf\n",
    "from tensorflow.keras import models, layers, optimizers\n",
    "from tensorflow.keras.callbacks import EarlyStopping, ReduceLROnPlateau\n",
    "from tensorflow.keras.layers import Input, Conv2D, Conv1D, MaxPooling2D, MaxPooling1D, Flatten, Dense, concatenate, Dropout\n",
    "from tensorflow.keras.models import Model\n",
    "from tensorflow.keras.utils import to_categorical\n",
    "import pandas as pd\n",
    "from sklearn.model_selection import train_test_split\n",
    "from sklearn.metrics import confusion_matrix\n",
    "from sklearn.preprocessing import StandardScaler\n",
    "import numpy as np\n",
    "import pickle\n",
    "import os\n",
    "import librosa\n",
    "import librosa.display\n",
    "from matplotlib import pyplot as plt\n",
    "import seaborn as sns\n",
    "import warnings\n",
    "from tqdm.keras import TqdmCallback\n",
    "warnings.filterwarnings('ignore')"
   ],
   "outputs": [
    {
     "name": "stderr",
     "output_type": "stream",
     "text": [
      "2024-11-27 23:51:06.982118: I tensorflow/core/util/port.cc:153] oneDNN custom operations are on. You may see slightly different numerical results due to floating-point round-off errors from different computation orders. To turn them off, set the environment variable `TF_ENABLE_ONEDNN_OPTS=0`.\n",
      "2024-11-27 23:51:07.263306: I tensorflow/core/platform/cpu_feature_guard.cc:210] This TensorFlow binary is optimized to use available CPU instructions in performance-critical operations.\n",
      "To enable the following instructions: AVX2 AVX512F AVX512_VNNI FMA, in other operations, rebuild TensorFlow with the appropriate compiler flags.\n",
      "/home/eduardo/PycharmProjects/Urban-Sounds-Classification/.venv/lib/python3.11/site-packages/tqdm/auto.py:21: TqdmWarning: IProgress not found. Please update jupyter and ipywidgets. See https://ipywidgets.readthedocs.io/en/stable/user_install.html\n",
      "  from .autonotebook import tqdm as notebook_tqdm\n"
     ]
    }
   ],
   "execution_count": 1
  },
  {
   "metadata": {},
   "cell_type": "markdown",
   "source": "## Data Analysis and Preprocessing",
   "id": "d511fca817e39b09"
  },
  {
   "metadata": {
    "ExecuteTime": {
     "end_time": "2024-11-27T23:51:08.891740Z",
     "start_time": "2024-11-27T23:51:08.871093Z"
    }
   },
   "cell_type": "code",
   "source": [
    "df = pd.read_csv('UrbanSound8K/metadata/UrbanSound8K.csv')\n",
    "\n",
    "df.head()"
   ],
   "id": "b91fa62f027bbe3f",
   "outputs": [
    {
     "data": {
      "text/plain": [
       "      slice_file_name    fsID  start        end  salience  fold  classID  \\\n",
       "0    100032-3-0-0.wav  100032    0.0   0.317551         1     5        3   \n",
       "1  100263-2-0-117.wav  100263   58.5  62.500000         1     5        2   \n",
       "2  100263-2-0-121.wav  100263   60.5  64.500000         1     5        2   \n",
       "3  100263-2-0-126.wav  100263   63.0  67.000000         1     5        2   \n",
       "4  100263-2-0-137.wav  100263   68.5  72.500000         1     5        2   \n",
       "\n",
       "              class  \n",
       "0          dog_bark  \n",
       "1  children_playing  \n",
       "2  children_playing  \n",
       "3  children_playing  \n",
       "4  children_playing  "
      ],
      "text/html": [
       "<div>\n",
       "<style scoped>\n",
       "    .dataframe tbody tr th:only-of-type {\n",
       "        vertical-align: middle;\n",
       "    }\n",
       "\n",
       "    .dataframe tbody tr th {\n",
       "        vertical-align: top;\n",
       "    }\n",
       "\n",
       "    .dataframe thead th {\n",
       "        text-align: right;\n",
       "    }\n",
       "</style>\n",
       "<table border=\"1\" class=\"dataframe\">\n",
       "  <thead>\n",
       "    <tr style=\"text-align: right;\">\n",
       "      <th></th>\n",
       "      <th>slice_file_name</th>\n",
       "      <th>fsID</th>\n",
       "      <th>start</th>\n",
       "      <th>end</th>\n",
       "      <th>salience</th>\n",
       "      <th>fold</th>\n",
       "      <th>classID</th>\n",
       "      <th>class</th>\n",
       "    </tr>\n",
       "  </thead>\n",
       "  <tbody>\n",
       "    <tr>\n",
       "      <th>0</th>\n",
       "      <td>100032-3-0-0.wav</td>\n",
       "      <td>100032</td>\n",
       "      <td>0.0</td>\n",
       "      <td>0.317551</td>\n",
       "      <td>1</td>\n",
       "      <td>5</td>\n",
       "      <td>3</td>\n",
       "      <td>dog_bark</td>\n",
       "    </tr>\n",
       "    <tr>\n",
       "      <th>1</th>\n",
       "      <td>100263-2-0-117.wav</td>\n",
       "      <td>100263</td>\n",
       "      <td>58.5</td>\n",
       "      <td>62.500000</td>\n",
       "      <td>1</td>\n",
       "      <td>5</td>\n",
       "      <td>2</td>\n",
       "      <td>children_playing</td>\n",
       "    </tr>\n",
       "    <tr>\n",
       "      <th>2</th>\n",
       "      <td>100263-2-0-121.wav</td>\n",
       "      <td>100263</td>\n",
       "      <td>60.5</td>\n",
       "      <td>64.500000</td>\n",
       "      <td>1</td>\n",
       "      <td>5</td>\n",
       "      <td>2</td>\n",
       "      <td>children_playing</td>\n",
       "    </tr>\n",
       "    <tr>\n",
       "      <th>3</th>\n",
       "      <td>100263-2-0-126.wav</td>\n",
       "      <td>100263</td>\n",
       "      <td>63.0</td>\n",
       "      <td>67.000000</td>\n",
       "      <td>1</td>\n",
       "      <td>5</td>\n",
       "      <td>2</td>\n",
       "      <td>children_playing</td>\n",
       "    </tr>\n",
       "    <tr>\n",
       "      <th>4</th>\n",
       "      <td>100263-2-0-137.wav</td>\n",
       "      <td>100263</td>\n",
       "      <td>68.5</td>\n",
       "      <td>72.500000</td>\n",
       "      <td>1</td>\n",
       "      <td>5</td>\n",
       "      <td>2</td>\n",
       "      <td>children_playing</td>\n",
       "    </tr>\n",
       "  </tbody>\n",
       "</table>\n",
       "</div>"
      ]
     },
     "execution_count": 2,
     "metadata": {},
     "output_type": "execute_result"
    }
   ],
   "execution_count": 2
  },
  {
   "metadata": {},
   "cell_type": "markdown",
   "source": [
    "As per mentioned in the **project statement**, the target variable corresponds to the correct labeling of the sound. There are 10 different possible sounds in the dataset:\n",
    "\n",
    " - air conditioner\n",
    " - car horn\n",
    " - children playing\n",
    " - dog bark\n",
    " - drilling\n",
    " - engine idling\n",
    " - gun shot\n",
    " - jackhammer\n",
    " - siren\n",
    " - street music\n"
   ],
   "id": "6597aa5239958e3d"
  },
  {
   "metadata": {},
   "cell_type": "markdown",
   "source": "We can already find the `classID` column, which essentially represents each label as an integer, from 0 to 9:\n",
   "id": "7a4167146241a390"
  },
  {
   "metadata": {
    "ExecuteTime": {
     "end_time": "2024-11-27T23:51:08.970635Z",
     "start_time": "2024-11-27T23:51:08.963502Z"
    }
   },
   "cell_type": "code",
   "source": [
    "class_id_pairs = df[['classID', 'class']].drop_duplicates().sort_values(by=\"classID\")\n",
    "\n",
    "for index, row in class_id_pairs.iterrows():\n",
    "    print(f'classID: {row[\"classID\"]}, class: {row[\"class\"]}')"
   ],
   "id": "59d97e8deef0208f",
   "outputs": [
    {
     "name": "stdout",
     "output_type": "stream",
     "text": [
      "classID: 0, class: air_conditioner\n",
      "classID: 1, class: car_horn\n",
      "classID: 2, class: children_playing\n",
      "classID: 3, class: dog_bark\n",
      "classID: 4, class: drilling\n",
      "classID: 5, class: engine_idling\n",
      "classID: 6, class: gun_shot\n",
      "classID: 7, class: jackhammer\n",
      "classID: 8, class: siren\n",
      "classID: 9, class: street_music\n"
     ]
    }
   ],
   "execution_count": 3
  },
  {
   "metadata": {},
   "cell_type": "markdown",
   "source": "This means that we can remove the last column and begin working with our dataset, which we already determined is slightly unbalanced for the `car_horn` and `gunshot` values: ",
   "id": "e23aa5294beb41d0"
  },
  {
   "metadata": {
    "ExecuteTime": {
     "end_time": "2024-11-27T23:51:09.003016Z",
     "start_time": "2024-11-27T23:51:08.997205Z"
    }
   },
   "cell_type": "code",
   "source": [
    "# Map class IDs to class names\n",
    "class_id_pairs = df[['classID', 'class']].drop_duplicates().sort_values(by=\"classID\")\n",
    "class_labels = class_id_pairs['class'].values\n",
    "\n",
    "# Drop the 'class' column\n",
    "df.drop(columns=['class'], inplace=True)"
   ],
   "id": "da8ab39fbe688e8a",
   "outputs": [],
   "execution_count": 4
  },
  {
   "metadata": {},
   "cell_type": "markdown",
   "source": "Before proceeding, we decided to check if our dataset is imbalanced.",
   "id": "a840ddb670629fa8"
  },
  {
   "metadata": {
    "ExecuteTime": {
     "end_time": "2024-11-27T23:51:09.182653Z",
     "start_time": "2024-11-27T23:51:09.058065Z"
    }
   },
   "cell_type": "code",
   "source": [
    "plt.figure(figsize=(8, 6))\n",
    "sns.countplot(x=df['classID'])  \n",
    "plt.title(\"Class Distribution for the Entire Dataset\")\n",
    "plt.xlabel('Class')\n",
    "plt.ylabel('Count')\n",
    "plt.show()"
   ],
   "id": "706803c716165b3b",
   "outputs": [
    {
     "data": {
      "text/plain": [
       "<Figure size 800x600 with 1 Axes>"
      ],
      "image/png": "[encoded data removed]"
     },
     "metadata": {},
     "output_type": "display_data"
    }
   ],
   "execution_count": 5
  },
  {
   "metadata": {},
   "cell_type": "markdown",
   "source": [
    "Classes of ID 1 and 6 show significant imbalance, when compared to other classes' counts. \n",
    "\n",
    "No over or under sampling techniques will be applied throghout this notebook, but imbalance was taken into consideration while evaluating each model's performance."
   ],
   "id": "4d5e43c6d3062bd0"
  },
  {
   "metadata": {},
   "cell_type": "markdown",
   "source": "## Feature Extraction",
   "id": "e4e254a7a651b129"
  },
  {
   "metadata": {},
   "cell_type": "markdown",
   "source": [
    "When working with audio data, especially in the context of urban sound classification, it is highly beneficial to transform raw audio signals into **2D representations**. These representations capture both temporal and frequency information, leveraging the strengths of **Convolutional Neural Networks (CNNs)** in processing spatial data.\n",
    "\n",
    "To achieve this, we use the `librosa` library to extract a variety of **audio features**, each capturing unique aspects of the sound. These features include:\n",
    "\n",
    "- **Mel Spectrograms**: Representing the power spectrum of the audio signal on a Mel scale, capturing pitch and loudness over time.\n",
    "- **MFCCs (Mel-Frequency Cepstral Coefficients)**: Extracting features that model the short-term power spectrum of the sound, commonly used in speech and audio recognition.\n",
    "- **Chroma Features**: Representing the energy distribution across different pitch classes, useful for tonal and harmonic analysis.\n",
    "- **Spectral Contrast**: Highlighting the difference between peaks and valleys in the spectrum, useful for differentiating sound textures.\n",
    "- **Spectral Rolloff**: Measuring the frequency below which a specified percentage of the total spectral energy is concentrated, often used for timbre classification.\n",
    "- **Zero-Crossing Rate**: Counting the number of times the signal crosses the zero amplitude line, commonly used for identifying percussive sounds.\n",
    "\n",
    "By utilizing these features, we can create a **multi-stream CNN** architecture. This design processes different feature sets in parallel, enhancing the model's ability to learn **complex patterns** in the audio data. Each feature provides a unique perspective on the signal, and their combination allows the model to make more informed and accurate predictions."
   ],
   "id": "354aa24612e666f2"
  },
  {
   "metadata": {
    "ExecuteTime": {
     "end_time": "2024-11-27T23:51:09.241226Z",
     "start_time": "2024-11-27T23:51:09.237811Z"
    }
   },
   "cell_type": "code",
   "source": [
    "def extract_features(audio_path, sample_rate=22050, duration=4):\n",
    "    # Load and preprocess audio\n",
    "    signal, sr = librosa.load(audio_path, sr=sample_rate, duration=duration)\n",
    "    signal = librosa.util.fix_length(signal, size=sample_rate * duration)\n",
    "\n",
    "    # Extract features\n",
    "    mel_spec = librosa.feature.melspectrogram(y=signal, sr=sr)\n",
    "    mel_spec_db = librosa.power_to_db(mel_spec, ref=np.max)\n",
    "\n",
    "    mfccs = librosa.feature.mfcc(S=mel_spec_db, n_mfcc=40)\n",
    "\n",
    "    chroma = librosa.feature.chroma_stft(y=signal, sr=sr)\n",
    "\n",
    "    spectral_contrast = librosa.feature.spectral_contrast(y=signal, sr=sr)\n",
    "\n",
    "    spectral_rolloff = librosa.feature.spectral_rolloff(y=signal, sr=sr)\n",
    "\n",
    "    zero_crossing_rate = librosa.feature.zero_crossing_rate(y=signal)\n",
    "\n",
    "    return {\n",
    "        'mel_spec': mel_spec_db,\n",
    "        'mfccs': mfccs,\n",
    "        'chroma': chroma,\n",
    "        'spectral_contrast': spectral_contrast,\n",
    "        'spectral_rolloff': spectral_rolloff,\n",
    "        'zero_crossing_rate': zero_crossing_rate\n",
    "    }"
   ],
   "id": "302898527c97ea85",
   "outputs": [],
   "execution_count": 6
  },
  {
   "metadata": {},
   "cell_type": "markdown",
   "source": "Before we proceed to extract features from all audio files, let's test our **extract_features** function on a sample audio file and visualize the features to ensure they are being extracted correctly.",
   "id": "1f05adca7fd3cba7"
  },
  {
   "metadata": {
    "ExecuteTime": {
     "end_time": "2024-11-27T23:51:10.844139Z",
     "start_time": "2024-11-27T23:51:09.296068Z"
    }
   },
   "cell_type": "code",
   "source": [
    "# Select a sample audio file\n",
    "sample_row = df.sample(n=1).iloc[0]\n",
    "audio_path = f\"UrbanSound8K/audio/fold{sample_row['fold']}/{sample_row['slice_file_name']}\"\n",
    "\n",
    "# Extract features\n",
    "features = extract_features(audio_path)\n",
    "\n",
    "# Display the audio path and class\n",
    "print(f\"Audio Path: {audio_path}\")\n",
    "print(f\"Class ID: {sample_row['classID']}\")\n"
   ],
   "id": "39814c1992cb867b",
   "outputs": [
    {
     "name": "stdout",
     "output_type": "stream",
     "text": [
      "Audio Path: UrbanSound8K/audio/fold3/98681-9-0-7.wav\n",
      "Class ID: 9\n"
     ]
    }
   ],
   "execution_count": 7
  },
  {
   "metadata": {},
   "cell_type": "markdown",
   "source": "### Mel Spectogram",
   "id": "48810f06cf7edf2c"
  },
  {
   "metadata": {
    "ExecuteTime": {
     "end_time": "2024-11-27T23:51:11.069472Z",
     "start_time": "2024-11-27T23:51:10.891506Z"
    }
   },
   "cell_type": "code",
   "source": [
    "plt.figure(figsize=(10, 4))\n",
    "librosa.display.specshow(features['mel_spec'], sr=22050, x_axis='time', y_axis='mel')\n",
    "plt.title('Mel Spectrogram')\n",
    "plt.colorbar(format='%+2.0f dB')\n",
    "plt.tight_layout()\n",
    "plt.show()\n"
   ],
   "id": "79e99627702844f4",
   "outputs": [
    {
     "data": {
      "text/plain": [
       "<Figure size 1000x400 with 2 Axes>"
      ],
      "image/png": "[encoded data removed]"
     },
     "metadata": {},
     "output_type": "display_data"
    }
   ],
   "execution_count": 8
  },
  {
   "metadata": {},
   "cell_type": "markdown",
   "source": "### MFCCs (Mel-Frequency Cepstral Coefficients)",
   "id": "f9356a72210f6693"
  },
  {
   "metadata": {
    "ExecuteTime": {
     "end_time": "2024-11-27T23:51:11.081204Z",
     "start_time": "2024-11-27T23:51:11.079752Z"
    }
   },
   "cell_type": "code",
   "source": "",
   "id": "a2212ceda696dd60",
   "outputs": [],
   "execution_count": null
  },
  {
   "metadata": {},
   "cell_type": "markdown",
   "source": "### Extracting Features From All Audio Files\n",
   "id": "95942fd2d8f0ad6d"
  },
  {
   "metadata": {},
   "cell_type": "markdown",
   "source": "This cell checks if features have been previously extracted and saved in a pickle file. If not, it processes all audio files in the dataset, extracts the relevant features, and saves them for future use.",
   "id": "8f636c17b9a09b05"
  },
  {
   "metadata": {
    "ExecuteTime": {
     "end_time": "2024-11-27T23:51:12.241198Z",
     "start_time": "2024-11-27T23:51:11.133597Z"
    }
   },
   "cell_type": "code",
   "source": [
    "# Check if features have been extracted previously\n",
    "features_pickle = 'urbansound8k_features.pkl'\n",
    "\n",
    "if os.path.isfile(features_pickle):\n",
    "    # Load pre-extracted features\n",
    "    with open(features_pickle, 'rb') as f:\n",
    "        data = pickle.load(f)\n",
    "    print('Features loaded from pickle file.')\n",
    "else:\n",
    "    # Extract features from all audio files\n",
    "    print('Extracting features from audio files...')\n",
    "    data = []\n",
    "    audio_parent_dir = 'UrbanSound8K/audio/'\n",
    "    for index, row in df.iterrows():\n",
    "        file_name = row['slice_file_name']\n",
    "        fold = row['fold']\n",
    "        class_id = row['classID']\n",
    "        file_path = os.path.join(audio_parent_dir, f'fold{fold}', file_name)\n",
    "\n",
    "        if os.path.exists(file_path):\n",
    "            features = extract_features(file_path)\n",
    "            data.append({\n",
    "                'mel_spec': features['mel_spec'],\n",
    "                'mfccs': features['mfccs'],\n",
    "                'chroma': features['chroma'],\n",
    "                'spectral_contrast': features['spectral_contrast'],\n",
    "                'spectral_rolloff': features['spectral_rolloff'],\n",
    "                'zero_crossing_rate': features['zero_crossing_rate'],\n",
    "                'label': class_id,\n",
    "                'fold': fold\n",
    "            })\n",
    "        else:\n",
    "            print(f'File not found: {file_path}')\n",
    "\n",
    "    # Save extracted features\n",
    "    with open(features_pickle, 'wb') as f:\n",
    "        pickle.dump(data, f)\n",
    "    print('Feature extraction completed and data saved.')\n"
   ],
   "id": "cc8633568751ef05",
   "outputs": [
    {
     "name": "stdout",
     "output_type": "stream",
     "text": [
      "Features loaded from pickle file.\n"
     ]
    }
   ],
   "execution_count": 9
  },
  {
   "metadata": {},
   "cell_type": "markdown",
   "source": "## Preparing Data For Model Input",
   "id": "5849c14151687255"
  },
  {
   "metadata": {},
   "cell_type": "markdown",
   "source": "This cell organizes the extracted features into separate arrays for each feature type (Mel Spectrogram, MFCCs, Chroma, Spectral Contrast, Rolloff, and Zero-Crossing Rate) and the corresponding labels. These arrays are now ready for input into the CNN model.",
   "id": "3a3874d402c4755"
  },
  {
   "metadata": {
    "ExecuteTime": {
     "end_time": "2024-11-27T23:51:12.491067Z",
     "start_time": "2024-11-27T23:51:12.253190Z"
    }
   },
   "cell_type": "code",
   "source": [
    "# Prepare data for model input\n",
    "features_df = pd.DataFrame(data)\n",
    "\n",
    "# Separate features and labels\n",
    "X_mel = np.array(features_df['mel_spec'].tolist())\n",
    "X_mfcc = np.array(features_df['mfccs'].tolist())\n",
    "X_chroma = np.array(features_df['chroma'].tolist())\n",
    "X_contrast = np.array(features_df['spectral_contrast'].tolist())\n",
    "X_rolloff = np.array(features_df['spectral_rolloff'].tolist())\n",
    "X_zcr = np.array(features_df['zero_crossing_rate'].tolist())\n",
    "y = np.array(features_df['label'].tolist())\n"
   ],
   "id": "dd10d3d54fe4933f",
   "outputs": [],
   "execution_count": 10
  },
  {
   "metadata": {},
   "cell_type": "markdown",
   "source": "### Normalize Features",
   "id": "c9d4834d335a8707"
  },
  {
   "metadata": {},
   "cell_type": "markdown",
   "source": "This cell normalizes the features using `StandardScaler` to ensure that each feature has a mean of 0 and a standard deviation of 1. This step ensures all features contribute equally to the learning process and improves model performance.",
   "id": "fa98acb007551389"
  },
  {
   "metadata": {
    "ExecuteTime": {
     "end_time": "2024-11-27T23:51:14.711631Z",
     "start_time": "2024-11-27T23:51:12.584870Z"
    }
   },
   "cell_type": "code",
   "source": [
    "# Normalize features\n",
    "scaler = StandardScaler()\n",
    "\n",
    "def scale_features(X):\n",
    "    num_samples, num_features, num_frames = X.shape\n",
    "    X_flat = X.reshape(num_samples, -1)\n",
    "    X_scaled = scaler.fit_transform(X_flat)\n",
    "    X_scaled = X_scaled.reshape(num_samples, num_features, num_frames)\n",
    "    return X_scaled\n",
    "\n",
    "X_mel_scaled = scale_features(X_mel)\n",
    "X_mfcc_scaled = scale_features(X_mfcc)\n",
    "X_chroma_scaled = scale_features(X_chroma)\n",
    "X_contrast_scaled = scale_features(X_contrast)\n",
    "X_rolloff_scaled = scale_features(X_rolloff)\n",
    "X_zcr_scaled = scale_features(X_zcr)\n"
   ],
   "id": "7adf7962c64a7e07",
   "outputs": [],
   "execution_count": 11
  },
  {
   "metadata": {},
   "cell_type": "markdown",
   "source": "### Encode Labels",
   "id": "f731646a67168c73"
  },
  {
   "metadata": {},
   "cell_type": "markdown",
   "source": [
    "We will use one-hot encoding for the labels.\n",
    "\n"
   ],
   "id": "afe6014c63badc7"
  },
  {
   "metadata": {
    "ExecuteTime": {
     "end_time": "2024-11-27T23:51:14.807133Z",
     "start_time": "2024-11-27T23:51:14.805109Z"
    }
   },
   "cell_type": "code",
   "source": [
    "# Encode labels\n",
    "num_classes = 10\n",
    "y_encoded = to_categorical(y, num_classes=num_classes)"
   ],
   "id": "83a0f83b888e3078",
   "outputs": [],
   "execution_count": 12
  },
  {
   "metadata": {},
   "cell_type": "markdown",
   "source": "### Split Data into Training, Validation, and Test Sets",
   "id": "951e5c916947c181"
  },
  {
   "metadata": {},
   "cell_type": "markdown",
   "source": "We initialize lists to store test accuracies and the cumulative confusion matrix. ",
   "id": "cb66832e9ef8ee11"
  },
  {
   "metadata": {
    "ExecuteTime": {
     "end_time": "2024-11-27T23:51:14.901993Z",
     "start_time": "2024-11-27T23:51:14.900353Z"
    }
   },
   "cell_type": "code",
   "source": [
    "# Initialize lists to store results\n",
    "test_accuracies = []\n",
    "confusion_matrix_total = np.zeros((num_classes, num_classes), dtype=int)"
   ],
   "id": "5d2d69035ec2906f",
   "outputs": [],
   "execution_count": 13
  },
  {
   "metadata": {},
   "cell_type": "markdown",
   "source": "This cell implements 10-fold cross-validation using `StratifiedKFold`. For each fold, the data is split into training, validation, and test sets. This process ensures that the model is trained and evaluated on different subsets of the data, providing a robust assessment of its performance.",
   "id": "9ce62fe1c81d8ae9"
  },
  {
   "metadata": {
    "ExecuteTime": {
     "end_time": "2024-11-27T23:51:18.136571Z",
     "start_time": "2024-11-27T23:51:14.992603Z"
    }
   },
   "cell_type": "code",
   "source": [
    "from sklearn.model_selection import StratifiedKFold\n",
    "\n",
    "# Create StratifiedKFold object\n",
    "skf = StratifiedKFold(n_splits=10, shuffle=True, random_state=42)\n",
    "\n",
    "# Iterate over each fold\n",
    "for fold_num, (train_val_indices, test_indices) in enumerate(skf.split(X_mel_scaled, y), 1):\n",
    "    print(f\"\\nProcessing Fold {fold_num}\")\n",
    "\n",
    "    # Further split train_val into training and validation sets\n",
    "    train_indices, val_indices = train_test_split(\n",
    "        train_val_indices, test_size=0.1, random_state=42, stratify=y[train_val_indices]\n",
    "    )\n",
    "\n",
    "    # Split the data\n",
    "    X_mel_train = X_mel_scaled[train_indices]\n",
    "    X_mfcc_train = X_mfcc_scaled[train_indices]\n",
    "    X_chroma_train = X_chroma_scaled[train_indices]\n",
    "    X_contrast_train = X_contrast_scaled[train_indices]\n",
    "    X_rolloff_train = X_rolloff_scaled[train_indices]\n",
    "    X_zcr_train = X_zcr_scaled[train_indices]\n",
    "    y_train = y_encoded[train_indices]\n",
    "\n",
    "    X_mel_val = X_mel_scaled[val_indices]\n",
    "    X_mfcc_val = X_mfcc_scaled[val_indices]\n",
    "    X_chroma_val = X_chroma_scaled[val_indices]\n",
    "    X_contrast_val = X_contrast_scaled[val_indices]\n",
    "    X_rolloff_val = X_rolloff_scaled[val_indices]\n",
    "    X_zcr_val = X_zcr_scaled[val_indices]\n",
    "    y_val = y_encoded[val_indices]\n",
    "\n",
    "    X_mel_test = X_mel_scaled[test_indices]\n",
    "    X_mfcc_test = X_mfcc_scaled[test_indices]\n",
    "    X_chroma_test = X_chroma_scaled[test_indices]\n",
    "    X_contrast_test = X_contrast_scaled[test_indices]\n",
    "    X_rolloff_test = X_rolloff_scaled[test_indices]\n",
    "    X_zcr_test = X_zcr_scaled[test_indices]\n",
    "    y_test = y_encoded[test_indices]\n"
   ],
   "id": "cc0418bc18675c27",
   "outputs": [
    {
     "name": "stdout",
     "output_type": "stream",
     "text": [
      "\n",
      "Processing Fold 1\n",
      "\n",
      "Processing Fold 2\n",
      "\n",
      "Processing Fold 3\n",
      "\n",
      "Processing Fold 4\n",
      "\n",
      "Processing Fold 5\n",
      "\n",
      "Processing Fold 6\n",
      "\n",
      "Processing Fold 7\n",
      "\n",
      "Processing Fold 8\n",
      "\n",
      "Processing Fold 9\n",
      "\n",
      "Processing Fold 10\n"
     ]
    }
   ],
   "execution_count": 14
  },
  {
   "metadata": {},
   "cell_type": "markdown",
   "source": [
    "This cell adjusts the feature shapes to match the expected input format for the model. \n",
    "\n",
    "- **1D Features** (Rolloff and ZCR): Transposed to `(samples, time_steps, 1)` for `Conv1D` compatibility.\n",
    "- **2D Features** (Mel Spectrogram, MFCC, Chroma, and Spectral Contrast): A channel dimension is added to reshape them to `(samples, height, width, 1)` for `Conv2D` layers."
   ],
   "id": "8ed9b2f20918651a"
  },
  {
   "metadata": {
    "ExecuteTime": {
     "end_time": "2024-11-27T23:51:18.240948Z",
     "start_time": "2024-11-27T23:51:18.238020Z"
    }
   },
   "cell_type": "code",
   "source": [
    "    # Transpose axes for rolloff and zcr\n",
    "    X_rolloff_train = X_rolloff_train.transpose(0, 2, 1)\n",
    "    X_zcr_train = X_zcr_train.transpose(0, 2, 1)\n",
    "\n",
    "    X_rolloff_val = X_rolloff_val.transpose(0, 2, 1)\n",
    "    X_zcr_val = X_zcr_val.transpose(0, 2, 1)\n",
    "\n",
    "    X_rolloff_test = X_rolloff_test.transpose(0, 2, 1)\n",
    "    X_zcr_test = X_zcr_test.transpose(0, 2, 1)\n",
    "\n",
    "    # Add channel dimension to 2D features\n",
    "    X_mel_train = X_mel_train[..., np.newaxis]\n",
    "    X_mfcc_train = X_mfcc_train[..., np.newaxis]\n",
    "    X_chroma_train = X_chroma_train[..., np.newaxis]\n",
    "    X_contrast_train = X_contrast_train[..., np.newaxis]\n",
    "\n",
    "    X_mel_val = X_mel_val[..., np.newaxis]\n",
    "    X_mfcc_val = X_mfcc_val[..., np.newaxis]\n",
    "    X_chroma_val = X_chroma_val[..., np.newaxis]\n",
    "    X_contrast_val = X_contrast_val[..., np.newaxis]\n",
    "\n",
    "    X_mel_test = X_mel_test[..., np.newaxis]\n",
    "    X_mfcc_test = X_mfcc_test[..., np.newaxis]\n",
    "    X_chroma_test = X_chroma_test[..., np.newaxis]\n",
    "    X_contrast_test = X_contrast_test[..., np.newaxis]\n"
   ],
   "id": "f762b4b502bb2e41",
   "outputs": [],
   "execution_count": 15
  },
  {
   "metadata": {},
   "cell_type": "markdown",
   "source": "## Model Creation",
   "id": "768169a0e28dc4f7"
  },
  {
   "metadata": {},
   "cell_type": "markdown",
   "source": [
    "### Multi-Input CNN Model for Urban Sound Classification\n",
    "\n",
    "This CNN model processes and combines multiple audio feature sets, leveraging their complementary information for robust urban sound classification. Each feature set has its own input stream, allowing the model to learn specialized patterns.\n",
    "\n",
    "#### 1. **Input Streams**\n",
    "- **Mel Spectrogram**: Captures both frequency and temporal information.\n",
    "- **MFCCs (Mel-Frequency Cepstral Coefficients)**: Focuses on spectral and perceptual aspects of sound.\n",
    "- **Chroma**: Represents tonal and harmonic patterns.\n",
    "- **Spectral Contrast**: Highlights spectral variation and texture.\n",
    "- **Spectral Rolloff**: Detects changes in the spectral distribution.\n",
    "- **Zero-Crossing Rate (ZCR)**: Measures percussive and transient properties.\n",
    "\n",
    "Each feature is fed into its own dedicated input stream, where convolutional layers process the feature-specific patterns.\n",
    "\n",
    "#### 2. **Stream-Specific Layers**\n",
    "- **Conv2D Layers (2D Features)**: Extract spatial patterns for Mel Spectrogram, MFCCs, Chroma, and Spectral Contrast.\n",
    "- **Conv1D Layers (1D Features)**: Extract temporal patterns for Spectral Rolloff and ZCR.\n",
    "- **MaxPooling**: Reduces dimensionality while retaining important features.\n",
    "- **Flatten**: Converts processed feature maps into vectors for concatenation.\n",
    "\n",
    "#### 3. **Combining Streams**\n",
    "The processed outputs from all feature streams are combined using a `concatenate` layer, integrating complementary patterns learned from each feature type.\n",
    "\n",
    "#### 4. **Fully Connected Layers**\n",
    "- **Dense Layer (256 units)**: Captures complex interactions between combined features.\n",
    "- **Dropout (50%)**: Reduces overfitting.\n",
    "- **Dense Layer (128 units)**: Refines the feature representation.\n",
    "- **Dropout (50%)**: Adds further regularization.\n",
    "\n",
    "#### 5. **Output Layer**\n",
    "The output layer uses a **softmax activation function** to classify the input into one of the predefined categories.\n",
    "\n",
    "#### **Model Strengths**\n",
    "- Specialized processing for each feature ensures optimal learning.\n",
    "- Combining feature-specific streams integrates diverse information effectively.\n",
    "- Dropout layers improve generalization.\n",
    "- Flexible architecture for audio classification tasks.\n",
    "\n",
    "This model is well-suited for tasks requiring the integration of multiple feature types, like urban sound classification.\n"
   ],
   "id": "b1516c76cf1930b3"
  },
  {
   "metadata": {},
   "cell_type": "markdown",
   "source": "### Define Input Shapes",
   "id": "13a0ccef6306fc87"
  },
  {
   "metadata": {},
   "cell_type": "markdown",
   "source": [
    "To ensure compatibility with the model, we define **2D features** (Mel Spectrogram, MFCC, Chroma, and Spectral Contrast) with shapes like `(height, width, 1)` for Conv2D layers. These features require a **channel dimension** to leverage both temporal and frequency information.\n",
    "\n",
    "For **1D features** (Spectral Rolloff and ZCR), we use shapes like `(time_steps, 1)` for Conv1D layers, focusing only on temporal patterns. This avoids errors and ensures each feature type is processed correctly.\n",
    "\n",
    "---"
   ],
   "id": "6d8db1e0b2fd3fd1"
  },
  {
   "metadata": {
    "ExecuteTime": {
     "end_time": "2024-11-27T23:51:18.348143Z",
     "start_time": "2024-11-27T23:51:18.346165Z"
    }
   },
   "cell_type": "code",
   "source": [
    "    # Define input shapes\n",
    "    mel_shape = X_mel_train.shape[1:]        # (128, time_steps, 1)\n",
    "    mfcc_shape = X_mfcc_train.shape[1:]      # (40, time_steps, 1)\n",
    "    chroma_shape = X_chroma_train.shape[1:]  # (12, time_steps, 1)\n",
    "    contrast_shape = X_contrast_train.shape[1:]  # (7, time_steps, 1)\n",
    "    rolloff_shape = (X_rolloff_train.shape[1], X_rolloff_train.shape[2])   # (time_steps, 1)\n",
    "    zcr_shape = (X_zcr_train.shape[1], X_zcr_train.shape[2])              # (time_steps, 1)\n"
   ],
   "id": "a8de3f206e262b94",
   "outputs": [],
   "execution_count": 16
  },
  {
   "metadata": {},
   "cell_type": "markdown",
   "source": "## Build the Model\n",
   "id": "4b152e7ec8be5c69"
  },
  {
   "metadata": {},
   "cell_type": "markdown",
   "source": [
    "### Related Work and Inspirations for the Model\n",
    "\n",
    "The use of **multi-input Convolutional Neural Networks (CNNs)** for audio classification is a well-established approach, with various studies demonstrating the power of combining multiple feature representations to improve classification accuracy. The design of our model draws inspiration from the following research:\n",
    "\n",
    "1. **Multi-Representation Knowledge Distillation for Audio Classification**  \n",
    "   This study introduces a multi-input CNN with branches that process different audio representations independently, combining their outputs for enhanced classification. In our project, we adopt a similar strategy by using separate input streams for each feature type (e.g., Mel Spectrogram, MFCCs, Chroma, etc.), allowing the model to learn specialized patterns from each representation. The idea of merging these streams into a combined representation is directly inspired by this work.  \n",
    "   ([Source](https://link.springer.com/article/10.1007/s11042-021-11610-8))\n",
    "\n",
    "2. **An Ensemble of Convolutional Neural Networks for Audio Classification**  \n",
    "   This research explores ensembles of pre-trained CNNs, each fine-tuned on a specific audio feature. By aggregating the results of these CNNs, the study demonstrates improved performance across diverse datasets. Similarly, our model processes each feature type (e.g., Spectral Contrast and Zero-Crossing Rate) independently through dedicated CNN streams. Instead of using an ensemble of pre-trained networks, we combine the streams into a unified model, inspired by the concept of leveraging diverse feature-specific processing.  \n",
    "   ([Source](https://www.mdpi.com/2076-3417/11/13/5796))\n",
    "\n",
    "3. **Audio Classification Using Braided Convolutional Neural Networks**  \n",
    "   This paper proposes a braided CNN architecture where different audio features are processed in parallel to capture both time and frequency components effectively. Our architecture mirrors this by employing parallel streams for 2D features (e.g., Mel Spectrogram and MFCCs) and 1D features (e.g., Rolloff and ZCR), ensuring that both temporal and frequency aspects are well represented. The use of Conv2D and Conv1D layers for different feature types in our model takes direct inspiration from this work.  \n",
    "   ([Source](https://ietresearch.onlinelibrary.wiley.com/doi/pdfdirect/10.1049/iet-spr.2019.0381))\n",
    "\n",
    "---\n",
    "\n",
    "### Contribution of Our Model\n",
    "\n",
    "Our multi-input CNN combines insights from these studies, focusing on:\n",
    "- Specialized processing of diverse feature types using independent CNN streams.\n",
    "- Integration of these streams into a combined representation for robust decision-making.\n",
    "- Flexible use of both 2D and 1D convolutional layers to process spectral and temporal features effectively.\n",
    "\n",
    "This approach ensures that the strengths of each feature type are fully utilized, leading to improved performance in urban sound classification tasks."
   ],
   "id": "f9440dfd1281154"
  },
  {
   "metadata": {
    "ExecuteTime": {
     "end_time": "2024-11-27T23:51:18.620664Z",
     "start_time": "2024-11-27T23:51:18.451856Z"
    }
   },
   "cell_type": "code",
   "source": [
    "    # Mel Spectrogram Input Stream\n",
    "    mel_input = Input(shape=mel_shape, name='mel_input')\n",
    "    mel_layer = Conv2D(32, (3, 3), activation='relu', padding='same')(mel_input)  \n",
    "    mel_layer = MaxPooling2D((2, 2))(mel_layer)\n",
    "    mel_layer = Conv2D(64, (3, 3), activation='relu', padding='same')(mel_layer)  \n",
    "    mel_layer = MaxPooling2D((2, 2))(mel_layer)\n",
    "    mel_layer = Flatten()(mel_layer)\n",
    "    \n",
    "    # MFCCs Input Stream\n",
    "    mfcc_input = Input(shape=mfcc_shape, name='mfcc_input')\n",
    "    mfcc_layer = Conv2D(32, (3, 3), activation='relu', padding='same')(mfcc_input) \n",
    "    mfcc_layer = MaxPooling2D((2, 2))(mfcc_layer)\n",
    "    mfcc_layer = Conv2D(64, (3, 3), activation='relu', padding='same')(mfcc_layer) \n",
    "    mfcc_layer = MaxPooling2D((2, 2))(mfcc_layer)\n",
    "    mfcc_layer = Flatten()(mfcc_layer)\n",
    "    \n",
    "    # Chroma Input Stream\n",
    "    chroma_input = Input(shape=chroma_shape, name='chroma_input')\n",
    "    chroma_layer = Conv2D(32, (3, 3), activation='relu', padding='same')(chroma_input)  \n",
    "    chroma_layer = MaxPooling2D((2, 2))(chroma_layer)\n",
    "    chroma_layer = Conv2D(64, (3, 3), activation='relu', padding='same')(chroma_layer)  \n",
    "    chroma_layer = MaxPooling2D((2, 2))(chroma_layer)\n",
    "    chroma_layer = Flatten()(chroma_layer)\n",
    "    \n",
    "    # Spectral Contrast Input Stream\n",
    "    contrast_input = Input(shape=contrast_shape, name='contrast_input')\n",
    "    contrast_layer = Conv2D(32, (3, 3), activation='relu', padding='same')(contrast_input)  \n",
    "    contrast_layer = MaxPooling2D((2, 2))(contrast_layer)\n",
    "    contrast_layer = Conv2D(64, (3, 3), activation='relu', padding='same')(contrast_layer)  \n",
    "    contrast_layer = MaxPooling2D((2, 2))(contrast_layer)\n",
    "    contrast_layer = Flatten()(contrast_layer)\n",
    "\n",
    "\n",
    "    # Spectral Rolloff Input Stream\n",
    "    rolloff_input = Input(shape=rolloff_shape, name=\"rolloff_input\")\n",
    "    rolloff_layer = Conv1D(32, kernel_size=3, activation=\"relu\")(rolloff_input)\n",
    "    rolloff_layer = MaxPooling1D(pool_size=2)(rolloff_layer)\n",
    "    rolloff_layer = Conv1D(64, kernel_size=3, activation=\"relu\")(rolloff_layer)\n",
    "    rolloff_layer = MaxPooling1D(pool_size=2)(rolloff_layer)\n",
    "    rolloff_layer = Flatten()(rolloff_layer)\n",
    "\n",
    "    # Zero-Crossing Rate Input Stream\n",
    "    zcr_input = Input(shape=zcr_shape, name=\"zcr_input\")\n",
    "    zcr_layer = Conv1D(32, kernel_size=3, activation=\"relu\")(zcr_input)\n",
    "    zcr_layer = MaxPooling1D(pool_size=2)(zcr_layer)\n",
    "    zcr_layer = Conv1D(64, kernel_size=3, activation=\"relu\")(zcr_layer)\n",
    "    zcr_layer = MaxPooling1D(pool_size=2)(zcr_layer)\n",
    "    zcr_layer = Flatten()(zcr_layer)\n",
    "\n",
    "    # Combine all streams\n",
    "    combined = concatenate([\n",
    "        mel_layer, mfcc_layer, chroma_layer, contrast_layer, rolloff_layer, zcr_layer\n",
    "    ])\n",
    "\n",
    "    # Fully connected layers\n",
    "    dense_layer = Dense(256, activation='relu')(combined)\n",
    "    dense_layer = Dropout(0.5)(dense_layer)\n",
    "    dense_layer = Dense(128, activation='relu')(dense_layer)\n",
    "    dense_layer = Dropout(0.5)(dense_layer)\n",
    "\n",
    "    # Output layer\n",
    "    output = Dense(num_classes, activation='softmax')(dense_layer)\n",
    "\n",
    "    # Define the model\n",
    "    model = Model(inputs=[mel_input, mfcc_input, chroma_input, contrast_input, rolloff_input, zcr_input], outputs=output)\n"
   ],
   "id": "ad93ac3d3d5dae31",
   "outputs": [],
   "execution_count": 17
  },
  {
   "metadata": {},
   "cell_type": "markdown",
   "source": "### Complie the Model",
   "id": "5bbbb86fab168bf9"
  },
  {
   "metadata": {
    "ExecuteTime": {
     "end_time": "2024-11-27T23:51:18.734469Z",
     "start_time": "2024-11-27T23:51:18.727850Z"
    }
   },
   "cell_type": "code",
   "source": [
    "    # Compile the model\n",
    "    model.compile(\n",
    "        optimizer=optimizers.Adam(learning_rate=0.001),\n",
    "        loss='categorical_crossentropy',\n",
    "        metrics=['accuracy']\n",
    "    )"
   ],
   "id": "bfda7a98d0d7d0a0",
   "outputs": [],
   "execution_count": 18
  },
  {
   "metadata": {},
   "cell_type": "markdown",
   "source": "### Define Callbakcs",
   "id": "985b65736e8058ae"
  },
  {
   "metadata": {},
   "cell_type": "markdown",
   "source": "We set up callbacks for early stopping and learning rate reduction",
   "id": "6f3b0b294fda2948"
  },
  {
   "metadata": {
    "ExecuteTime": {
     "end_time": "2024-11-27T23:51:18.839300Z",
     "start_time": "2024-11-27T23:51:18.837615Z"
    }
   },
   "cell_type": "code",
   "source": [
    "    # Define callbacks\n",
    "    early_stopping = EarlyStopping(monitor='val_loss', patience=5, restore_best_weights=True)\n",
    "    reduce_lr = ReduceLROnPlateau(monitor='val_loss', factor=0.5, patience=3, min_lr=1e-6)\n"
   ],
   "id": "349a2452c62ee4f4",
   "outputs": [],
   "execution_count": 19
  },
  {
   "metadata": {},
   "cell_type": "markdown",
   "source": "### Train the Model",
   "id": "1dd030892c3933fb"
  },
  {
   "metadata": {
    "ExecuteTime": {
     "start_time": "2024-11-27T23:51:18.945674Z"
    }
   },
   "cell_type": "code",
   "source": [
    "    # Train the model with tqdm progress bar\n",
    "    history = model.fit(\n",
    "        [X_mel_train, X_mfcc_train, X_chroma_train, X_contrast_train, X_rolloff_train, X_zcr_train],\n",
    "        y_train,\n",
    "        validation_data=(\n",
    "            [X_mel_val, X_mfcc_val, X_chroma_val, X_contrast_val, X_rolloff_val, X_zcr_val],\n",
    "            y_val\n",
    "        ),\n",
    "        epochs=50,\n",
    "        batch_size=32,\n",
    "        callbacks=[\n",
    "            early_stopping,\n",
    "            reduce_lr,\n",
    "            TqdmCallback(verbose=1)\n",
    "        ],\n",
    "        verbose=0  # Set to 0 to prevent duplicate logs with tqdm\n",
    "    )\n"
   ],
   "id": "a2109f9f601e5e31",
   "outputs": [
    {
     "name": "stderr",
     "output_type": "stream",
     "text": [
      "0epoch [00:00, ?epoch/s]\n",
      "  0%|          | 0/50 [00:00<?, ?epoch/s]\n",
      "  0%|          | 0.00/222 [00:00<?, ?batch/s]\u001B[A\n",
      "  0%|          | 1.00/222 [00:02<08:48, 2.39s/batch, accuracy=0.0625, loss=2.43]\u001B[A\n",
      "  1%|          | 2.00/222 [00:02<04:21, 1.19s/batch, accuracy=0.0781, loss=13]  \u001B[A\n",
      "  1%|▏         | 3.00/222 [00:03<02:56, 1.24batch/s, accuracy=0.0729, loss=14.3]\u001B[A\n",
      "  2%|▏         | 4.00/222 [00:03<02:16, 1.59batch/s, accuracy=0.102, loss=13]   \u001B[A\n",
      "  2%|▏         | 5.00/222 [00:03<01:55, 1.87batch/s, accuracy=0.119, loss=11.8]\u001B[A\n",
      "  3%|▎         | 6.00/222 [00:04<01:42, 2.12batch/s, accuracy=0.125, loss=10.8]\u001B[A\n",
      "  3%|▎         | 7.00/222 [00:04<01:33, 2.30batch/s, accuracy=0.134, loss=9.9] \u001B[A\n",
      "  4%|▎         | 8.00/222 [00:04<01:27, 2.44batch/s, accuracy=0.137, loss=9.07]\u001B[A\n",
      "  4%|▍         | 9.00/222 [00:05<01:24, 2.53batch/s, accuracy=0.135, loss=8.41]\u001B[A\n",
      "  5%|▍         | 10.0/222 [00:05<01:21, 2.60batch/s, accuracy=0.144, loss=7.8] \u001B[A\n",
      "  5%|▍         | 11.0/222 [00:06<01:22, 2.57batch/s, accuracy=0.145, loss=7.32]\u001B[A\n",
      "  5%|▌         | 12.0/222 [00:06<01:21, 2.59batch/s, accuracy=0.146, loss=6.89]\u001B[A\n",
      "  6%|▌         | 13.0/222 [00:06<01:18, 2.67batch/s, accuracy=0.159, loss=6.53]\u001B[A\n",
      "  6%|▋         | 14.0/222 [00:07<01:16, 2.72batch/s, accuracy=0.152, loss=6.23]\u001B[A\n",
      "  7%|▋         | 15.0/222 [00:07<01:15, 2.75batch/s, accuracy=0.152, loss=5.97]\u001B[A\n",
      "  7%|▋         | 16.0/222 [00:07<01:14, 2.78batch/s, accuracy=0.15, loss=5.74] \u001B[A\n",
      "  8%|▊         | 17.0/222 [00:08<01:13, 2.80batch/s, accuracy=0.156, loss=5.53]\u001B[A\n",
      "  8%|▊         | 18.0/222 [00:08<01:13, 2.78batch/s, accuracy=0.153, loss=5.35]\u001B[A\n",
      "  9%|▊         | 19.0/222 [00:08<01:14, 2.74batch/s, accuracy=0.151, loss=5.18]\u001B[A\n",
      "  9%|▉         | 20.0/222 [00:09<01:14, 2.72batch/s, accuracy=0.148, loss=5.03]\u001B[A\n",
      "  9%|▉         | 21.0/222 [00:09<01:14, 2.70batch/s, accuracy=0.158, loss=4.9] \u001B[A\n",
      " 10%|▉         | 22.0/222 [00:10<01:15, 2.64batch/s, accuracy=0.158, loss=4.78]\u001B[A\n",
      " 10%|█         | 23.0/222 [00:10<01:14, 2.68batch/s, accuracy=0.162, loss=4.66]\u001B[A\n",
      " 11%|█         | 24.0/222 [00:10<01:13, 2.70batch/s, accuracy=0.167, loss=4.55]\u001B[A\n",
      " 11%|█▏        | 25.0/222 [00:11<01:13, 2.69batch/s, accuracy=0.165, loss=4.46]\u001B[A\n",
      " 12%|█▏        | 26.0/222 [00:11<01:13, 2.68batch/s, accuracy=0.165, loss=4.37]\u001B[A\n",
      " 12%|█▏        | 27.0/222 [00:11<01:12, 2.68batch/s, accuracy=0.167, loss=4.3] \u001B[A\n",
      " 13%|█▎        | 28.0/222 [00:12<01:12, 2.68batch/s, accuracy=0.166, loss=4.23]\u001B[A\n",
      " 13%|█▎        | 29.0/222 [00:12<01:11, 2.69batch/s, accuracy=0.167, loss=4.16]\u001B[A\n",
      " 14%|█▎        | 30.0/222 [00:12<01:11, 2.69batch/s, accuracy=0.166, loss=4.1] \u001B[A\n",
      " 14%|█▍        | 31.0/222 [00:13<01:10, 2.69batch/s, accuracy=0.168, loss=4.03]\u001B[A\n",
      " 14%|█▍        | 32.0/222 [00:13<01:10, 2.70batch/s, accuracy=0.169, loss=3.97]\u001B[A\n",
      " 15%|█▍        | 33.0/222 [00:14<01:10, 2.70batch/s, accuracy=0.17, loss=3.92] \u001B[A\n",
      " 15%|█▌        | 34.0/222 [00:14<01:09, 2.71batch/s, accuracy=0.172, loss=3.87]\u001B[A\n",
      " 16%|█▌        | 35.0/222 [00:14<01:09, 2.69batch/s, accuracy=0.171, loss=3.82]\u001B[A\n",
      " 16%|█▌        | 36.0/222 [00:15<01:08, 2.70batch/s, accuracy=0.171, loss=3.78]\u001B[A\n",
      " 17%|█▋        | 37.0/222 [00:15<01:08, 2.72batch/s, accuracy=0.172, loss=3.74]\u001B[A\n",
      " 17%|█▋        | 38.0/222 [00:15<01:08, 2.70batch/s, accuracy=0.171, loss=3.7] \u001B[A\n",
      " 18%|█▊        | 39.0/222 [00:16<01:07, 2.73batch/s, accuracy=0.172, loss=3.65]\u001B[A\n",
      " 18%|█▊        | 40.0/222 [00:16<01:06, 2.74batch/s, accuracy=0.172, loss=3.62]\u001B[A\n",
      " 18%|█▊        | 41.0/222 [00:17<01:08, 2.63batch/s, accuracy=0.172, loss=3.58]\u001B[A\n",
      " 19%|█▉        | 42.0/222 [00:17<01:08, 2.62batch/s, accuracy=0.173, loss=3.55]\u001B[A\n",
      " 19%|█▉        | 43.0/222 [00:17<01:08, 2.59batch/s, accuracy=0.173, loss=3.51]\u001B[A\n",
      " 20%|█▉        | 44.0/222 [00:18<01:08, 2.59batch/s, accuracy=0.171, loss=3.48]\u001B[A\n",
      " 20%|██        | 45.0/222 [00:18<01:08, 2.57batch/s, accuracy=0.17, loss=3.46] \u001B[A\n",
      " 21%|██        | 46.0/222 [00:19<01:08, 2.59batch/s, accuracy=0.172, loss=3.42]\u001B[A\n",
      " 21%|██        | 47.0/222 [00:19<01:06, 2.63batch/s, accuracy=0.172, loss=3.4] \u001B[A\n",
      " 22%|██▏       | 48.0/222 [00:19<01:06, 2.64batch/s, accuracy=0.171, loss=3.37]\u001B[A\n",
      " 22%|██▏       | 49.0/222 [00:20<01:05, 2.65batch/s, accuracy=0.173, loss=3.35]\u001B[A\n",
      " 23%|██▎       | 50.0/222 [00:20<01:04, 2.66batch/s, accuracy=0.175, loss=3.32]\u001B[A\n",
      " 23%|██▎       | 51.0/222 [00:20<01:04, 2.67batch/s, accuracy=0.178, loss=3.3] \u001B[A\n",
      " 23%|██▎       | 52.0/222 [00:21<01:04, 2.65batch/s, accuracy=0.177, loss=3.28]\u001B[A\n",
      " 24%|██▍       | 53.0/222 [00:21<01:03, 2.64batch/s, accuracy=0.178, loss=3.25]\u001B[A\n",
      " 24%|██▍       | 54.0/222 [00:22<01:04, 2.62batch/s, accuracy=0.179, loss=3.23]\u001B[A\n",
      " 25%|██▍       | 55.0/222 [00:22<01:06, 2.51batch/s, accuracy=0.181, loss=3.21]\u001B[A\n",
      " 25%|██▌       | 56.0/222 [00:22<01:05, 2.55batch/s, accuracy=0.182, loss=3.2] \u001B[A\n",
      " 26%|██▌       | 57.0/222 [00:23<01:05, 2.52batch/s, accuracy=0.184, loss=3.18]\u001B[A\n",
      " 26%|██▌       | 58.0/222 [00:23<01:03, 2.60batch/s, accuracy=0.184, loss=3.16]\u001B[A\n",
      " 27%|██▋       | 59.0/222 [00:24<01:03, 2.59batch/s, accuracy=0.189, loss=3.13]\u001B[A\n",
      " 27%|██▋       | 60.0/222 [00:24<01:02, 2.60batch/s, accuracy=0.188, loss=3.12]\u001B[A\n",
      " 27%|██▋       | 61.0/222 [00:24<01:01, 2.60batch/s, accuracy=0.189, loss=3.1] \u001B[A\n",
      " 28%|██▊       | 62.0/222 [00:25<01:01, 2.59batch/s, accuracy=0.19, loss=3.08]\u001B[A\n",
      " 28%|██▊       | 63.0/222 [00:25<01:00, 2.61batch/s, accuracy=0.192, loss=3.06]\u001B[A\n",
      " 29%|██▉       | 64.0/222 [00:25<00:59, 2.66batch/s, accuracy=0.196, loss=3.04]\u001B[A\n",
      " 29%|██▉       | 65.0/222 [00:26<00:58, 2.69batch/s, accuracy=0.196, loss=3.03]\u001B[A\n",
      " 30%|██▉       | 66.0/222 [00:26<00:58, 2.68batch/s, accuracy=0.196, loss=3.01]\u001B[A\n",
      " 30%|███       | 67.0/222 [00:27<00:57, 2.69batch/s, accuracy=0.199, loss=2.99]\u001B[A\n",
      " 31%|███       | 68.0/222 [00:27<00:58, 2.65batch/s, accuracy=0.2, loss=2.98]  \u001B[A\n",
      " 31%|███       | 69.0/222 [00:27<00:57, 2.67batch/s, accuracy=0.202, loss=2.96]\u001B[A\n",
      " 32%|███▏      | 70.0/222 [00:28<00:57, 2.66batch/s, accuracy=0.205, loss=2.95]\u001B[A\n",
      " 32%|███▏      | 71.0/222 [00:28<00:56, 2.69batch/s, accuracy=0.209, loss=2.93]\u001B[A\n",
      " 32%|███▏      | 72.0/222 [00:28<00:55, 2.69batch/s, accuracy=0.21, loss=2.91] \u001B[A\n",
      " 33%|███▎      | 73.0/222 [00:29<00:55, 2.68batch/s, accuracy=0.211, loss=2.9]\u001B[A\n",
      " 33%|███▎      | 74.0/222 [00:29<00:54, 2.73batch/s, accuracy=0.213, loss=2.89]\u001B[A\n",
      " 34%|███▍      | 75.0/222 [00:29<00:54, 2.72batch/s, accuracy=0.214, loss=2.88]\u001B[A\n",
      " 34%|███▍      | 76.0/222 [00:30<00:54, 2.68batch/s, accuracy=0.213, loss=2.87]\u001B[A\n",
      " 35%|███▍      | 77.0/222 [00:30<00:54, 2.68batch/s, accuracy=0.214, loss=2.86]\u001B[A\n",
      " 35%|███▌      | 78.0/222 [00:31<00:54, 2.64batch/s, accuracy=0.216, loss=2.84]\u001B[A\n",
      " 36%|███▌      | 79.0/222 [00:31<00:52, 2.70batch/s, accuracy=0.218, loss=2.83]\u001B[A\n",
      " 36%|███▌      | 80.0/222 [00:31<00:53, 2.68batch/s, accuracy=0.22, loss=2.81] \u001B[A\n",
      " 36%|███▋      | 81.0/222 [00:32<00:52, 2.69batch/s, accuracy=0.22, loss=2.8] \u001B[A\n",
      " 37%|███▋      | 82.0/222 [00:32<00:51, 2.71batch/s, accuracy=0.219, loss=2.8]\u001B[A\n",
      " 37%|███▋      | 83.0/222 [00:32<00:51, 2.70batch/s, accuracy=0.221, loss=2.79]\u001B[A\n",
      " 38%|███▊      | 84.0/222 [00:33<00:51, 2.68batch/s, accuracy=0.222, loss=2.77]\u001B[A\n",
      " 38%|███▊      | 85.0/222 [00:33<00:50, 2.69batch/s, accuracy=0.225, loss=2.76]\u001B[A\n",
      " 39%|███▊      | 86.0/222 [00:34<00:49, 2.75batch/s, accuracy=0.225, loss=2.75]\u001B[A\n",
      " 39%|███▉      | 87.0/222 [00:34<00:49, 2.74batch/s, accuracy=0.224, loss=2.74]\u001B[A\n",
      " 40%|███▉      | 88.0/222 [00:34<00:50, 2.65batch/s, accuracy=0.227, loss=2.73]\u001B[A\n",
      " 40%|████      | 89.0/222 [00:35<00:50, 2.64batch/s, accuracy=0.229, loss=2.72]\u001B[A\n",
      " 41%|████      | 90.0/222 [00:35<00:49, 2.67batch/s, accuracy=0.23, loss=2.71] \u001B[A\n",
      " 41%|████      | 91.0/222 [00:35<00:48, 2.71batch/s, accuracy=0.231, loss=2.7]\u001B[A\n",
      " 41%|████▏     | 92.0/222 [00:36<00:50, 2.59batch/s, accuracy=0.233, loss=2.69]\u001B[A\n",
      " 42%|████▏     | 93.0/222 [00:36<00:49, 2.61batch/s, accuracy=0.234, loss=2.68]\u001B[A\n",
      " 42%|████▏     | 94.0/222 [00:37<00:48, 2.62batch/s, accuracy=0.235, loss=2.67]\u001B[A\n",
      " 43%|████▎     | 95.0/222 [00:37<00:47, 2.69batch/s, accuracy=0.235, loss=2.66]\u001B[A\n",
      " 43%|████▎     | 96.0/222 [00:37<00:46, 2.69batch/s, accuracy=0.237, loss=2.65]\u001B[A\n",
      " 44%|████▎     | 97.0/222 [00:38<00:47, 2.66batch/s, accuracy=0.238, loss=2.65]\u001B[A\n",
      " 44%|████▍     | 98.0/222 [00:38<00:46, 2.65batch/s, accuracy=0.24, loss=2.64] \u001B[A\n",
      " 45%|████▍     | 99.0/222 [00:38<00:46, 2.67batch/s, accuracy=0.241, loss=2.63]\u001B[A\n",
      " 45%|████▌     | 100/222 [00:39<00:46, 2.63batch/s, accuracy=0.243, loss=2.62] \u001B[A\n",
      " 45%|████▌     | 101/222 [00:39<00:46, 2.59batch/s, accuracy=0.244, loss=2.61]\u001B[A\n",
      " 46%|████▌     | 102/222 [00:40<00:45, 2.64batch/s, accuracy=0.245, loss=2.6] \u001B[A\n",
      " 46%|████▋     | 103/222 [00:40<00:45, 2.64batch/s, accuracy=0.248, loss=2.59]\u001B[A\n",
      " 47%|████▋     | 104/222 [00:40<00:44, 2.64batch/s, accuracy=0.248, loss=2.58]\u001B[A\n",
      " 47%|████▋     | 105/222 [00:41<00:44, 2.62batch/s, accuracy=0.248, loss=2.58]\u001B[A\n",
      " 48%|████▊     | 106/222 [00:41<00:45, 2.56batch/s, accuracy=0.248, loss=2.57]\u001B[A\n",
      " 48%|████▊     | 107/222 [00:42<00:44, 2.56batch/s, accuracy=0.25, loss=2.56] \u001B[A\n",
      " 49%|████▊     | 108/222 [00:42<00:45, 2.50batch/s, accuracy=0.252, loss=2.55]\u001B[A\n",
      " 49%|████▉     | 109/222 [00:42<00:44, 2.55batch/s, accuracy=0.255, loss=2.54]\u001B[A\n",
      " 50%|████▉     | 110/222 [00:43<00:42, 2.62batch/s, accuracy=0.255, loss=2.54]\u001B[A\n",
      " 50%|█████     | 111/222 [00:43<00:41, 2.67batch/s, accuracy=0.258, loss=2.53]\u001B[A\n",
      " 50%|█████     | 112/222 [00:43<00:40, 2.70batch/s, accuracy=0.259, loss=2.52]\u001B[A\n",
      " 51%|█████     | 113/222 [00:44<00:40, 2.72batch/s, accuracy=0.26, loss=2.51] \u001B[A\n",
      " 51%|█████▏    | 114/222 [00:44<00:39, 2.74batch/s, accuracy=0.261, loss=2.51]\u001B[A\n",
      " 52%|█████▏    | 115/222 [00:45<00:39, 2.72batch/s, accuracy=0.263, loss=2.5] \u001B[A\n",
      " 52%|█████▏    | 116/222 [00:45<00:39, 2.69batch/s, accuracy=0.265, loss=2.49]\u001B[A\n",
      " 53%|█████▎    | 117/222 [00:45<00:39, 2.68batch/s, accuracy=0.267, loss=2.48]\u001B[A\n",
      " 53%|█████▎    | 118/222 [00:46<00:38, 2.74batch/s, accuracy=0.268, loss=2.48]\u001B[A\n",
      " 54%|█████▎    | 119/222 [00:46<00:38, 2.71batch/s, accuracy=0.27, loss=2.47] \u001B[A\n",
      " 54%|█████▍    | 120/222 [00:46<00:38, 2.68batch/s, accuracy=0.272, loss=2.46]\u001B[A\n",
      " 55%|█████▍    | 121/222 [00:47<00:37, 2.71batch/s, accuracy=0.274, loss=2.45]\u001B[A\n",
      " 55%|█████▍    | 122/222 [00:47<00:36, 2.74batch/s, accuracy=0.275, loss=2.44]\u001B[A\n",
      " 55%|█████▌    | 123/222 [00:47<00:36, 2.71batch/s, accuracy=0.277, loss=2.44]\u001B[A\n",
      " 56%|█████▌    | 124/222 [00:48<00:35, 2.73batch/s, accuracy=0.278, loss=2.43]\u001B[A\n",
      " 56%|█████▋    | 125/222 [00:48<00:35, 2.73batch/s, accuracy=0.28, loss=2.42] \u001B[A\n",
      " 57%|█████▋    | 126/222 [00:49<00:35, 2.71batch/s, accuracy=0.281, loss=2.42]\u001B[A\n",
      " 57%|█████▋    | 127/222 [00:49<00:35, 2.71batch/s, accuracy=0.283, loss=2.41]\u001B[A\n",
      " 58%|█████▊    | 128/222 [00:49<00:34, 2.73batch/s, accuracy=0.284, loss=2.4] \u001B[A\n",
      " 58%|█████▊    | 129/222 [00:50<00:33, 2.74batch/s, accuracy=0.285, loss=2.4]\u001B[A\n",
      " 59%|█████▊    | 130/222 [00:50<00:33, 2.72batch/s, accuracy=0.285, loss=2.39]\u001B[A\n",
      " 59%|█████▉    | 131/222 [00:50<00:34, 2.63batch/s, accuracy=0.286, loss=2.39]\u001B[A\n",
      " 59%|█████▉    | 132/222 [00:51<00:34, 2.63batch/s, accuracy=0.287, loss=2.38]\u001B[A\n",
      " 60%|█████▉    | 133/222 [00:51<00:33, 2.63batch/s, accuracy=0.288, loss=2.38]\u001B[A\n",
      " 60%|██████    | 134/222 [00:52<00:33, 2.62batch/s, accuracy=0.29, loss=2.37] \u001B[A\n",
      " 61%|██████    | 135/222 [00:52<00:32, 2.65batch/s, accuracy=0.291, loss=2.36]\u001B[A\n",
      " 61%|██████▏   | 136/222 [00:52<00:32, 2.66batch/s, accuracy=0.292, loss=2.36]\u001B[A\n",
      " 62%|██████▏   | 137/222 [00:53<00:31, 2.67batch/s, accuracy=0.292, loss=2.35]\u001B[A\n",
      " 62%|██████▏   | 138/222 [00:53<00:31, 2.64batch/s, accuracy=0.294, loss=2.35]\u001B[A\n",
      " 63%|██████▎   | 139/222 [00:53<00:31, 2.63batch/s, accuracy=0.296, loss=2.34]\u001B[A\n",
      " 63%|██████▎   | 140/222 [00:54<00:30, 2.67batch/s, accuracy=0.298, loss=2.33]\u001B[A\n",
      " 64%|██████▎   | 141/222 [00:54<00:31, 2.59batch/s, accuracy=0.3, loss=2.33]  \u001B[A\n",
      " 64%|██████▍   | 142/222 [00:55<00:30, 2.64batch/s, accuracy=0.301, loss=2.32]\u001B[A\n",
      " 64%|██████▍   | 143/222 [00:55<00:29, 2.67batch/s, accuracy=0.302, loss=2.32]\u001B[A\n",
      " 65%|██████▍   | 144/222 [00:55<00:29, 2.67batch/s, accuracy=0.304, loss=2.31]\u001B[A\n",
      " 65%|██████▌   | 145/222 [00:56<00:28, 2.66batch/s, accuracy=0.306, loss=2.3] \u001B[A\n",
      " 66%|██████▌   | 146/222 [00:56<00:28, 2.66batch/s, accuracy=0.306, loss=2.3]\u001B[A\n",
      " 66%|██████▌   | 147/222 [00:57<00:28, 2.64batch/s, accuracy=0.307, loss=2.29]\u001B[A\n",
      " 67%|██████▋   | 148/222 [00:57<00:27, 2.66batch/s, accuracy=0.307, loss=2.29]\u001B[A\n",
      " 67%|██████▋   | 149/222 [00:57<00:27, 2.68batch/s, accuracy=0.308, loss=2.29]\u001B[A\n",
      " 68%|██████▊   | 150/222 [00:58<00:26, 2.69batch/s, accuracy=0.309, loss=2.28]\u001B[A\n",
      " 68%|██████▊   | 151/222 [00:58<00:26, 2.72batch/s, accuracy=0.309, loss=2.28]\u001B[A\n",
      " 68%|██████▊   | 152/222 [00:58<00:25, 2.71batch/s, accuracy=0.31, loss=2.28] \u001B[A\n",
      " 69%|██████▉   | 153/222 [00:59<00:25, 2.70batch/s, accuracy=0.31, loss=2.27]\u001B[A\n",
      " 69%|██████▉   | 154/222 [00:59<00:24, 2.74batch/s, accuracy=0.312, loss=2.27]\u001B[A\n",
      " 70%|██████▉   | 155/222 [00:59<00:24, 2.77batch/s, accuracy=0.313, loss=2.26]\u001B[A\n",
      " 70%|███████   | 156/222 [01:00<00:24, 2.73batch/s, accuracy=0.314, loss=2.26]\u001B[A\n",
      " 71%|███████   | 157/222 [01:00<00:23, 2.76batch/s, accuracy=0.314, loss=2.25]\u001B[A\n",
      " 71%|███████   | 158/222 [01:01<00:23, 2.71batch/s, accuracy=0.315, loss=2.25]\u001B[A\n",
      " 72%|███████▏  | 159/222 [01:01<00:23, 2.70batch/s, accuracy=0.316, loss=2.25]\u001B[A\n",
      " 72%|███████▏  | 160/222 [01:01<00:22, 2.72batch/s, accuracy=0.316, loss=2.24]\u001B[A\n",
      " 73%|███████▎  | 161/222 [01:02<00:22, 2.69batch/s, accuracy=0.317, loss=2.24]\u001B[A\n",
      " 73%|███████▎  | 162/222 [01:02<00:22, 2.67batch/s, accuracy=0.317, loss=2.24]\u001B[A\n",
      " 73%|███████▎  | 163/222 [01:02<00:22, 2.66batch/s, accuracy=0.318, loss=2.23]\u001B[A\n",
      " 74%|███████▍  | 164/222 [01:03<00:21, 2.67batch/s, accuracy=0.32, loss=2.22] \u001B[A\n",
      " 74%|███████▍  | 165/222 [01:03<00:21, 2.66batch/s, accuracy=0.32, loss=2.22]\u001B[A\n",
      " 75%|███████▍  | 166/222 [01:04<00:21, 2.64batch/s, accuracy=0.321, loss=2.21]\u001B[A\n",
      " 75%|███████▌  | 167/222 [01:04<00:20, 2.62batch/s, accuracy=0.323, loss=2.21]\u001B[A\n",
      " 76%|███████▌  | 168/222 [01:04<00:20, 2.62batch/s, accuracy=0.323, loss=2.21]\u001B[A\n",
      " 76%|███████▌  | 169/222 [01:05<00:20, 2.61batch/s, accuracy=0.324, loss=2.2] \u001B[A\n",
      " 77%|███████▋  | 170/222 [01:05<00:20, 2.59batch/s, accuracy=0.326, loss=2.2]\u001B[A\n",
      " 77%|███████▋  | 171/222 [01:05<00:19, 2.59batch/s, accuracy=0.327, loss=2.19]\u001B[A\n",
      " 77%|███████▋  | 172/222 [01:06<00:20, 2.47batch/s, accuracy=0.328, loss=2.19]\u001B[A\n",
      " 78%|███████▊  | 173/222 [01:06<00:19, 2.52batch/s, accuracy=0.328, loss=2.18]\u001B[A\n",
      " 78%|███████▊  | 174/222 [01:07<00:18, 2.54batch/s, accuracy=0.329, loss=2.18]\u001B[A\n",
      " 79%|███████▉  | 175/222 [01:07<00:18, 2.58batch/s, accuracy=0.331, loss=2.18]\u001B[A\n",
      " 79%|███████▉  | 176/222 [01:07<00:17, 2.61batch/s, accuracy=0.332, loss=2.17]\u001B[A\n",
      " 80%|███████▉  | 177/222 [01:08<00:16, 2.67batch/s, accuracy=0.333, loss=2.17]\u001B[A\n",
      " 80%|████████  | 178/222 [01:08<00:16, 2.66batch/s, accuracy=0.334, loss=2.16]\u001B[A\n",
      " 81%|████████  | 179/222 [01:09<00:15, 2.69batch/s, accuracy=0.336, loss=2.16]\u001B[A\n",
      " 81%|████████  | 180/222 [01:09<00:15, 2.69batch/s, accuracy=0.336, loss=2.16]\u001B[A\n",
      " 82%|████████▏ | 181/222 [01:09<00:15, 2.64batch/s, accuracy=0.337, loss=2.15]\u001B[A\n",
      " 82%|████████▏ | 182/222 [01:10<00:15, 2.66batch/s, accuracy=0.338, loss=2.15]\u001B[A\n",
      " 82%|████████▏ | 183/222 [01:10<00:14, 2.65batch/s, accuracy=0.34, loss=2.14] \u001B[A\n",
      " 83%|████████▎ | 184/222 [01:10<00:14, 2.63batch/s, accuracy=0.341, loss=2.14]\u001B[A\n",
      " 83%|████████▎ | 185/222 [01:11<00:13, 2.68batch/s, accuracy=0.34, loss=2.14] \u001B[A\n",
      " 84%|████████▍ | 186/222 [01:11<00:13, 2.69batch/s, accuracy=0.34, loss=2.14]\u001B[A\n",
      " 84%|████████▍ | 187/222 [01:12<00:13, 2.66batch/s, accuracy=0.341, loss=2.13]\u001B[A\n",
      " 85%|████████▍ | 188/222 [01:12<00:12, 2.68batch/s, accuracy=0.342, loss=2.13]\u001B[A\n",
      " 85%|████████▌ | 189/222 [01:12<00:12, 2.74batch/s, accuracy=0.342, loss=2.13]\u001B[A\n",
      " 86%|████████▌ | 190/222 [01:13<00:11, 2.76batch/s, accuracy=0.344, loss=2.13]\u001B[A\n",
      " 86%|████████▌ | 191/222 [01:13<00:11, 2.73batch/s, accuracy=0.344, loss=2.12]\u001B[A\n",
      " 86%|████████▋ | 192/222 [01:13<00:11, 2.69batch/s, accuracy=0.346, loss=2.12]\u001B[A\n",
      " 87%|████████▋ | 193/222 [01:14<00:10, 2.70batch/s, accuracy=0.346, loss=2.11]\u001B[A\n",
      " 87%|████████▋ | 194/222 [01:14<00:10, 2.71batch/s, accuracy=0.347, loss=2.11]\u001B[A\n",
      " 88%|████████▊ | 195/222 [01:14<00:09, 2.71batch/s, accuracy=0.348, loss=2.11]\u001B[A\n",
      " 88%|████████▊ | 196/222 [01:15<00:09, 2.69batch/s, accuracy=0.348, loss=2.1] \u001B[A\n",
      " 89%|████████▊ | 197/222 [01:15<00:09, 2.73batch/s, accuracy=0.349, loss=2.1]\u001B[A\n",
      " 89%|████████▉ | 198/222 [01:16<00:08, 2.77batch/s, accuracy=0.35, loss=2.1] \u001B[A\n",
      " 90%|████████▉ | 199/222 [01:16<00:08, 2.76batch/s, accuracy=0.351, loss=2.09]\u001B[A\n",
      " 90%|█████████ | 200/222 [01:16<00:07, 2.79batch/s, accuracy=0.352, loss=2.09]\u001B[A\n",
      " 91%|█████████ | 201/222 [01:17<00:07, 2.74batch/s, accuracy=0.354, loss=2.09]\u001B[A\n",
      " 91%|█████████ | 202/222 [01:17<00:07, 2.69batch/s, accuracy=0.355, loss=2.08]\u001B[A\n",
      " 91%|█████████▏| 203/222 [01:17<00:07, 2.65batch/s, accuracy=0.356, loss=2.08]\u001B[A\n",
      " 92%|█████████▏| 204/222 [01:18<00:06, 2.70batch/s, accuracy=0.357, loss=2.08]\u001B[A\n",
      " 92%|█████████▏| 205/222 [01:18<00:06, 2.72batch/s, accuracy=0.359, loss=2.07]\u001B[A\n",
      " 93%|█████████▎| 206/222 [01:19<00:05, 2.73batch/s, accuracy=0.36, loss=2.07] \u001B[A\n",
      " 93%|█████████▎| 207/222 [01:19<00:05, 2.72batch/s, accuracy=0.36, loss=2.06]\u001B[A\n",
      " 94%|█████████▎| 208/222 [01:19<00:05, 2.68batch/s, accuracy=0.36, loss=2.06]\u001B[A\n",
      " 94%|█████████▍| 209/222 [01:20<00:04, 2.68batch/s, accuracy=0.361, loss=2.06]\u001B[A\n",
      " 95%|█████████▍| 210/222 [01:20<00:04, 2.70batch/s, accuracy=0.362, loss=2.06]\u001B[A\n",
      " 95%|█████████▌| 211/222 [01:20<00:04, 2.69batch/s, accuracy=0.362, loss=2.06]\u001B[A\n",
      " 95%|█████████▌| 212/222 [01:21<00:03, 2.70batch/s, accuracy=0.363, loss=2.05]\u001B[A\n",
      " 96%|█████████▌| 213/222 [01:21<00:03, 2.70batch/s, accuracy=0.364, loss=2.05]\u001B[A\n",
      " 96%|█████████▋| 214/222 [01:21<00:02, 2.71batch/s, accuracy=0.365, loss=2.04]\u001B[A\n",
      " 97%|█████████▋| 215/222 [01:22<00:02, 2.67batch/s, accuracy=0.365, loss=2.04]\u001B[A\n",
      " 97%|█████████▋| 216/222 [01:22<00:02, 2.65batch/s, accuracy=0.366, loss=2.04]\u001B[A\n",
      " 98%|█████████▊| 217/222 [01:23<00:01, 2.71batch/s, accuracy=0.367, loss=2.04]\u001B[A\n",
      " 98%|█████████▊| 218/222 [01:23<00:01, 2.67batch/s, accuracy=0.367, loss=2.03]\u001B[A\n",
      " 99%|█████████▊| 219/222 [01:23<00:01, 2.73batch/s, accuracy=0.368, loss=2.03]\u001B[A\n",
      " 99%|█████████▉| 220/222 [01:24<00:00, 2.74batch/s, accuracy=0.369, loss=2.03]\u001B[A\n",
      "100%|█████████▉| 221/222 [01:24<00:00, 2.69batch/s, accuracy=0.37, loss=2.02] \u001B[A\n",
      "100%|██████████| 222/222 [01:24<00:00, 3.03batch/s, accuracy=0.37, loss=2.02]\u001B[A"
     ]
    }
   ],
   "execution_count": null
  },
  {
   "metadata": {},
   "cell_type": "markdown",
   "source": "### Evaluate the Model",
   "id": "55b5fc7c81fcda0b"
  },
  {
   "metadata": {
    "ExecuteTime": {
     "end_time": "2024-11-28T00:00:09.406867Z",
     "start_time": "2024-11-28T00:00:09.262764Z"
    }
   },
   "cell_type": "code",
   "source": [
    "    # Evaluate on test set\n",
    "    test_loss, test_accuracy = model.evaluate(\n",
    "        [X_mel_test, X_mfcc_test, X_chroma_test, X_contrast_test, X_rolloff_test, X_zcr_test],\n",
    "        y_test,\n",
    "        verbose=0\n",
    "    )\n",
    "    print(f'Fold {fold_num} Test Accuracy: {test_accuracy * 100:.2f}%')\n",
    "    test_accuracies.append(test_accuracy)\n"
   ],
   "id": "89777b5bf2e243cf",
   "outputs": [
    {
     "ename": "NameError",
     "evalue": "name 'model' is not defined",
     "output_type": "error",
     "traceback": [
      "\u001B[0;31m---------------------------------------------------------------------------\u001B[0m",
      "\u001B[0;31mNameError\u001B[0m                                 Traceback (most recent call last)",
      "Cell \u001B[0;32mIn[1], line 2\u001B[0m\n\u001B[1;32m      1\u001B[0m \u001B[38;5;66;03m# Evaluate on test set\u001B[39;00m\n\u001B[0;32m----> 2\u001B[0m test_loss, test_accuracy \u001B[38;5;241m=\u001B[39m \u001B[43mmodel\u001B[49m\u001B[38;5;241m.\u001B[39mevaluate(\n\u001B[1;32m      3\u001B[0m     [X_mel_test, X_mfcc_test, X_chroma_test, X_contrast_test, X_rolloff_test, X_zcr_test],\n\u001B[1;32m      4\u001B[0m     y_test,\n\u001B[1;32m      5\u001B[0m     verbose\u001B[38;5;241m=\u001B[39m\u001B[38;5;241m0\u001B[39m\n\u001B[1;32m      6\u001B[0m )\n\u001B[1;32m      7\u001B[0m \u001B[38;5;28mprint\u001B[39m(\u001B[38;5;124mf\u001B[39m\u001B[38;5;124m'\u001B[39m\u001B[38;5;124mFold \u001B[39m\u001B[38;5;132;01m{\u001B[39;00mfold_num\u001B[38;5;132;01m}\u001B[39;00m\u001B[38;5;124m Test Accuracy: \u001B[39m\u001B[38;5;132;01m{\u001B[39;00mtest_accuracy\u001B[38;5;250m \u001B[39m\u001B[38;5;241m*\u001B[39m\u001B[38;5;250m \u001B[39m\u001B[38;5;241m100\u001B[39m\u001B[38;5;132;01m:\u001B[39;00m\u001B[38;5;124m.2f\u001B[39m\u001B[38;5;132;01m}\u001B[39;00m\u001B[38;5;124m%\u001B[39m\u001B[38;5;124m'\u001B[39m)\n\u001B[1;32m      8\u001B[0m test_accuracies\u001B[38;5;241m.\u001B[39mappend(test_accuracy)\n",
      "\u001B[0;31mNameError\u001B[0m: name 'model' is not defined"
     ]
    }
   ],
   "execution_count": 1
  },
  {
   "metadata": {},
   "cell_type": "markdown",
   "source": "## Update Confusion Matrix",
   "id": "9dd027a128d85ff0"
  },
  {
   "metadata": {},
   "cell_type": "code",
   "execution_count": null,
   "source": [
    "    # Predict labels\n",
    "    y_pred = model.predict(\n",
    "        [X_mel_test, X_mfcc_test, X_chroma_test, X_contrast_test, X_rolloff_test, X_zcr_test]\n",
    "    )\n",
    "    y_pred_classes = np.argmax(y_pred, axis=1)\n",
    "    y_true_classes = np.argmax(y_test, axis=1)\n",
    "\n",
    "    # Update confusion matrix\n",
    "    cm = confusion_matrix(y_true_classes, y_pred_classes)\n",
    "    confusion_matrix_total += cm\n"
   ],
   "id": "5b6153b9d1d895b4",
   "outputs": []
  },
  {
   "metadata": {},
   "cell_type": "markdown",
   "source": "## Compute Average Accuracy",
   "id": "fb5cb74565f64845"
  },
  {
   "metadata": {},
   "cell_type": "code",
   "outputs": [],
   "execution_count": null,
   "source": [
    "# After all folds, compute average accuracy and standard deviation\n",
    "avg_accuracy = np.mean(test_accuracies)\n",
    "std_accuracy = np.std(test_accuracies)\n",
    "print(f'\\nAverage Test Accuracy: {avg_accuracy * 100:.2f}% (+/- {std_accuracy * 100:.2f}%)')\n"
   ],
   "id": "5ef26d872a5ace93"
  },
  {
   "metadata": {},
   "cell_type": "markdown",
   "source": "## Plot Cumulative Confusion Matrix",
   "id": "51ba6633325137b"
  },
  {
   "metadata": {},
   "cell_type": "code",
   "outputs": [],
   "execution_count": null,
   "source": [
    "# Plot cumulative confusion matrix\n",
    "plt.figure(figsize=(10, 8))\n",
    "sns.heatmap(confusion_matrix_total, annot=True, fmt='d', cmap='Blues',\n",
    "            xticklabels=class_labels,\n",
    "            yticklabels=class_labels)\n",
    "plt.xlabel('Predicted')\n",
    "plt.ylabel('Actual')\n",
    "plt.title('Cumulative Confusion Matrix over 10 Folds')\n",
    "plt.show()\n"
   ],
   "id": "83e23899f1a6400f"
  }
 ],
 "metadata": {
  "kernelspec": {
   "display_name": "Python 3",
   "language": "python",
   "name": "python3"
  },
  "language_info": {
   "codemirror_mode": {
    "name": "ipython",
    "version": 2
   },
   "file_extension": ".py",
   "mimetype": "text/x-python",
   "name": "python",
   "nbconvert_exporter": "python",
   "pygments_lexer": "ipython2",
   "version": "2.7.6"
  }
 },
 "nbformat": 4,
 "nbformat_minor": 5
}
